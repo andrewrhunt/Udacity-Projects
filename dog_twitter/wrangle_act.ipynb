{
 "cells": [
  {
   "cell_type": "markdown",
   "metadata": {},
   "source": [
    "# Visualization Report\n",
    "I've done a lot of work behind the scenes to compile a cool (and undeniably adorable) dataset that we can parse for some interesting results! Today we'll be looking at a combination of the WeRateDogs twitter archive, along with the results of a machine learning algorithm that tried to predict the breed of each dog in the dataset. Along the way, we'll take a look at what some of the features of the best bois, what dog names yield the highest average ratings, and just how far that machine learning algorithm can be led astray. Let's first dive in by importing our data and taking a quick look at it:"
   ]
  },
  {
   "cell_type": "code",
   "execution_count": 27,
   "metadata": {},
   "outputs": [
    {
     "name": "stdout",
     "output_type": "stream",
     "text": [
      "<class 'pandas.core.frame.DataFrame'>\n",
      "RangeIndex: 1987 entries, 0 to 1986\n",
      "Data columns (total 24 columns):\n",
      " #   Column                  Non-Null Count  Dtype  \n",
      "---  ------                  --------------  -----  \n",
      " 0   tweet_id                1987 non-null   int64  \n",
      " 1   in_reply_to_status_id   23 non-null     float64\n",
      " 2   in_reply_to_user_id     23 non-null     float64\n",
      " 3   timestamp               1987 non-null   object \n",
      " 4   source                  1987 non-null   object \n",
      " 5   text                    1987 non-null   object \n",
      " 6   expanded_urls           1987 non-null   object \n",
      " 7   rating_numerator        1987 non-null   int64  \n",
      " 8   rating_denominator      1987 non-null   int64  \n",
      " 9   name                    1386 non-null   object \n",
      " 10  dog_stages              305 non-null    object \n",
      " 11  jpg_url                 1987 non-null   object \n",
      " 12  img_num                 1987 non-null   int64  \n",
      " 13  image_prediction1       1987 non-null   object \n",
      " 14  prediction1_confidence  1987 non-null   float64\n",
      " 15  is_prediction1_dog      1987 non-null   bool   \n",
      " 16  image_prediction2       1987 non-null   object \n",
      " 17  prediction2_confidence  1987 non-null   float64\n",
      " 18  is_prediction2_dog      1987 non-null   bool   \n",
      " 19  image_prediction3       1987 non-null   object \n",
      " 20  prediction3_confidence  1987 non-null   float64\n",
      " 21  is_prediction3_dog      1987 non-null   bool   \n",
      " 22  retweet_count           1987 non-null   int64  \n",
      " 23  favorite_count          1987 non-null   int64  \n",
      "dtypes: bool(3), float64(5), int64(6), object(10)\n",
      "memory usage: 331.9+ KB\n"
     ]
    }
   ],
   "source": [
    "import pandas as pd\n",
    "import matplotlib.pyplot as plt\n",
    "import numpy as np\n",
    "\n",
    "df = pd.read_csv('twitter_master_archive.csv')\n",
    "df.info()"
   ]
  },
  {
   "cell_type": "markdown",
   "metadata": {},
   "source": [
    "### Insight 1 / Visualization: Are higher dog ratings associated with more favorites? \n",
    "The first thing I asked myself when I saw the dataset was whether WeRateDogs had the same taste in dogs as their fans. This question could be easily answered by looking at their most favorited tweets, and finding the correlation between favorite counts and the dog's rating, as well as visualizing the scatter plot comparing the two with the line of regression identifying that relationship. \n",
    "\n",
    "\n",
    "A couple of caveats do exist here though. For one, there are several \"themed\" ratings that do exist in the dataset, such as an America themed dog rated 1776, and a picture of Snoop Dogg tagged 420. For that reason, I'll do a touch more wrangling to eliminate a few outliers, and calculate our predictions."
   ]
  },
  {
   "cell_type": "code",
   "execution_count": 36,
   "metadata": {},
   "outputs": [
    {
     "data": {
      "text/plain": [
       "12      448\n",
       "10      418\n",
       "11      396\n",
       "13      257\n",
       "9       151\n",
       "8        95\n",
       "7        52\n",
       "14       35\n",
       "5        33\n",
       "6        32\n",
       "3        19\n",
       "4        16\n",
       "2         9\n",
       "1         5\n",
       "0         2\n",
       "420       1\n",
       "24        1\n",
       "1776      1\n",
       "27        1\n",
       "44        1\n",
       "45        1\n",
       "50        1\n",
       "60        1\n",
       "75        1\n",
       "80        1\n",
       "84        1\n",
       "88        1\n",
       "99        1\n",
       "121       1\n",
       "143       1\n",
       "144       1\n",
       "165       1\n",
       "204       1\n",
       "26        1\n",
       "Name: rating_numerator, dtype: int64"
      ]
     },
     "execution_count": 36,
     "metadata": {},
     "output_type": "execute_result"
    }
   ],
   "source": [
    "df.rating_numerator.value_counts()"
   ]
  },
  {
   "cell_type": "code",
   "execution_count": 37,
   "metadata": {},
   "outputs": [
    {
     "data": {
      "text/plain": [
       "12    448\n",
       "10    418\n",
       "11    396\n",
       "13    257\n",
       "9     151\n",
       "8      95\n",
       "7      52\n",
       "14     35\n",
       "5      33\n",
       "6      32\n",
       "3      19\n",
       "4      16\n",
       "2       9\n",
       "1       5\n",
       "0       2\n",
       "Name: rating_numerator, dtype: int64"
      ]
     },
     "execution_count": 37,
     "metadata": {},
     "output_type": "execute_result"
    }
   ],
   "source": [
    "# Identify values in our ratings to filter as outliers;\n",
    "filtered = df[df.groupby('rating_numerator').rating_numerator.transform('count') > 1]\n",
    "filtered.rating_numerator.value_counts()"
   ]
  },
  {
   "cell_type": "code",
   "execution_count": 39,
   "metadata": {},
   "outputs": [
    {
     "data": {
      "image/png": "[encoded data removed]",
      "text/plain": [
       "<Figure size 432x288 with 1 Axes>"
      ]
     },
     "metadata": {
      "needs_background": "light"
     },
     "output_type": "display_data"
    }
   ],
   "source": [
    "filtered.plot.scatter(x='rating_numerator', y='favorite_count');"
   ]
  },
  {
   "cell_type": "markdown",
   "metadata": {},
   "source": [
    "Well, as we might expect, the rating is definitely positively associated with favorite count. But what's the average favorite count for each rating? This might provide us with more insight into the relationship between the two."
   ]
  },
  {
   "cell_type": "code",
   "execution_count": 44,
   "metadata": {},
   "outputs": [
    {
     "data": {
      "text/html": [
       "<div>\n",
       "<style scoped>\n",
       "    .dataframe tbody tr th:only-of-type {\n",
       "        vertical-align: middle;\n",
       "    }\n",
       "\n",
       "    .dataframe tbody tr th {\n",
       "        vertical-align: top;\n",
       "    }\n",
       "\n",
       "    .dataframe thead th {\n",
       "        text-align: right;\n",
       "    }\n",
       "</style>\n",
       "<table border=\"1\" class=\"dataframe\">\n",
       "  <thead>\n",
       "    <tr style=\"text-align: right;\">\n",
       "      <th></th>\n",
       "      <th>count</th>\n",
       "      <th>mean</th>\n",
       "      <th>std</th>\n",
       "      <th>min</th>\n",
       "      <th>25%</th>\n",
       "      <th>50%</th>\n",
       "      <th>75%</th>\n",
       "      <th>max</th>\n",
       "    </tr>\n",
       "    <tr>\n",
       "      <th>rating_numerator</th>\n",
       "      <th></th>\n",
       "      <th></th>\n",
       "      <th></th>\n",
       "      <th></th>\n",
       "      <th></th>\n",
       "      <th></th>\n",
       "      <th></th>\n",
       "      <th></th>\n",
       "    </tr>\n",
       "  </thead>\n",
       "  <tbody>\n",
       "    <tr>\n",
       "      <th>0</th>\n",
       "      <td>2.0</td>\n",
       "      <td>12707.500000</td>\n",
       "      <td>13867.071086</td>\n",
       "      <td>2902.0</td>\n",
       "      <td>7804.75</td>\n",
       "      <td>12707.5</td>\n",
       "      <td>17610.25</td>\n",
       "      <td>22513.0</td>\n",
       "    </tr>\n",
       "    <tr>\n",
       "      <th>1</th>\n",
       "      <td>5.0</td>\n",
       "      <td>5254.000000</td>\n",
       "      <td>5426.334813</td>\n",
       "      <td>138.0</td>\n",
       "      <td>801.00</td>\n",
       "      <td>5545.0</td>\n",
       "      <td>6108.00</td>\n",
       "      <td>13678.0</td>\n",
       "    </tr>\n",
       "    <tr>\n",
       "      <th>2</th>\n",
       "      <td>9.0</td>\n",
       "      <td>2043.333333</td>\n",
       "      <td>2040.358302</td>\n",
       "      <td>380.0</td>\n",
       "      <td>555.00</td>\n",
       "      <td>1128.0</td>\n",
       "      <td>2838.00</td>\n",
       "      <td>5430.0</td>\n",
       "    </tr>\n",
       "    <tr>\n",
       "      <th>3</th>\n",
       "      <td>19.0</td>\n",
       "      <td>2170.578947</td>\n",
       "      <td>1618.819196</td>\n",
       "      <td>468.0</td>\n",
       "      <td>982.00</td>\n",
       "      <td>1828.0</td>\n",
       "      <td>3014.00</td>\n",
       "      <td>6455.0</td>\n",
       "    </tr>\n",
       "    <tr>\n",
       "      <th>4</th>\n",
       "      <td>16.0</td>\n",
       "      <td>2595.312500</td>\n",
       "      <td>1455.358042</td>\n",
       "      <td>521.0</td>\n",
       "      <td>1074.50</td>\n",
       "      <td>3101.5</td>\n",
       "      <td>3568.50</td>\n",
       "      <td>4866.0</td>\n",
       "    </tr>\n",
       "    <tr>\n",
       "      <th>5</th>\n",
       "      <td>33.0</td>\n",
       "      <td>3617.606061</td>\n",
       "      <td>7525.433023</td>\n",
       "      <td>96.0</td>\n",
       "      <td>787.00</td>\n",
       "      <td>1760.0</td>\n",
       "      <td>2387.00</td>\n",
       "      <td>43026.0</td>\n",
       "    </tr>\n",
       "    <tr>\n",
       "      <th>6</th>\n",
       "      <td>32.0</td>\n",
       "      <td>2471.875000</td>\n",
       "      <td>2987.475175</td>\n",
       "      <td>103.0</td>\n",
       "      <td>925.75</td>\n",
       "      <td>1471.0</td>\n",
       "      <td>2648.50</td>\n",
       "      <td>16150.0</td>\n",
       "    </tr>\n",
       "    <tr>\n",
       "      <th>7</th>\n",
       "      <td>52.0</td>\n",
       "      <td>3405.538462</td>\n",
       "      <td>5865.304447</td>\n",
       "      <td>100.0</td>\n",
       "      <td>722.25</td>\n",
       "      <td>1546.0</td>\n",
       "      <td>3360.75</td>\n",
       "      <td>36769.0</td>\n",
       "    </tr>\n",
       "    <tr>\n",
       "      <th>8</th>\n",
       "      <td>95.0</td>\n",
       "      <td>2231.031579</td>\n",
       "      <td>2284.699540</td>\n",
       "      <td>105.0</td>\n",
       "      <td>723.50</td>\n",
       "      <td>1544.0</td>\n",
       "      <td>3126.00</td>\n",
       "      <td>12541.0</td>\n",
       "    </tr>\n",
       "    <tr>\n",
       "      <th>9</th>\n",
       "      <td>151.0</td>\n",
       "      <td>2425.132450</td>\n",
       "      <td>3370.640662</td>\n",
       "      <td>98.0</td>\n",
       "      <td>810.50</td>\n",
       "      <td>1915.0</td>\n",
       "      <td>3002.50</td>\n",
       "      <td>34979.0</td>\n",
       "    </tr>\n",
       "    <tr>\n",
       "      <th>10</th>\n",
       "      <td>418.0</td>\n",
       "      <td>3757.038278</td>\n",
       "      <td>5899.227051</td>\n",
       "      <td>96.0</td>\n",
       "      <td>1069.50</td>\n",
       "      <td>2397.0</td>\n",
       "      <td>4264.75</td>\n",
       "      <td>75017.0</td>\n",
       "    </tr>\n",
       "    <tr>\n",
       "      <th>11</th>\n",
       "      <td>396.0</td>\n",
       "      <td>6316.464646</td>\n",
       "      <td>6157.246956</td>\n",
       "      <td>72.0</td>\n",
       "      <td>2306.25</td>\n",
       "      <td>3791.0</td>\n",
       "      <td>8742.50</td>\n",
       "      <td>35433.0</td>\n",
       "    </tr>\n",
       "    <tr>\n",
       "      <th>12</th>\n",
       "      <td>448.0</td>\n",
       "      <td>10550.185268</td>\n",
       "      <td>10442.167290</td>\n",
       "      <td>176.0</td>\n",
       "      <td>3226.50</td>\n",
       "      <td>7906.0</td>\n",
       "      <td>14563.00</td>\n",
       "      <td>86661.0</td>\n",
       "    </tr>\n",
       "    <tr>\n",
       "      <th>13</th>\n",
       "      <td>257.0</td>\n",
       "      <td>21433.470817</td>\n",
       "      <td>21339.447629</td>\n",
       "      <td>556.0</td>\n",
       "      <td>8915.00</td>\n",
       "      <td>16581.0</td>\n",
       "      <td>26302.00</td>\n",
       "      <td>156469.0</td>\n",
       "    </tr>\n",
       "    <tr>\n",
       "      <th>14</th>\n",
       "      <td>35.0</td>\n",
       "      <td>27036.971429</td>\n",
       "      <td>18000.211852</td>\n",
       "      <td>3394.0</td>\n",
       "      <td>12666.50</td>\n",
       "      <td>25446.0</td>\n",
       "      <td>33780.50</td>\n",
       "      <td>88220.0</td>\n",
       "    </tr>\n",
       "  </tbody>\n",
       "</table>\n",
       "</div>"
      ],
      "text/plain": [
       "                  count          mean           std     min       25%  \\\n",
       "rating_numerator                                                        \n",
       "0                   2.0  12707.500000  13867.071086  2902.0   7804.75   \n",
       "1                   5.0   5254.000000   5426.334813   138.0    801.00   \n",
       "2                   9.0   2043.333333   2040.358302   380.0    555.00   \n",
       "3                  19.0   2170.578947   1618.819196   468.0    982.00   \n",
       "4                  16.0   2595.312500   1455.358042   521.0   1074.50   \n",
       "5                  33.0   3617.606061   7525.433023    96.0    787.00   \n",
       "6                  32.0   2471.875000   2987.475175   103.0    925.75   \n",
       "7                  52.0   3405.538462   5865.304447   100.0    722.25   \n",
       "8                  95.0   2231.031579   2284.699540   105.0    723.50   \n",
       "9                 151.0   2425.132450   3370.640662    98.0    810.50   \n",
       "10                418.0   3757.038278   5899.227051    96.0   1069.50   \n",
       "11                396.0   6316.464646   6157.246956    72.0   2306.25   \n",
       "12                448.0  10550.185268  10442.167290   176.0   3226.50   \n",
       "13                257.0  21433.470817  21339.447629   556.0   8915.00   \n",
       "14                 35.0  27036.971429  18000.211852  3394.0  12666.50   \n",
       "\n",
       "                      50%       75%       max  \n",
       "rating_numerator                               \n",
       "0                 12707.5  17610.25   22513.0  \n",
       "1                  5545.0   6108.00   13678.0  \n",
       "2                  1128.0   2838.00    5430.0  \n",
       "3                  1828.0   3014.00    6455.0  \n",
       "4                  3101.5   3568.50    4866.0  \n",
       "5                  1760.0   2387.00   43026.0  \n",
       "6                  1471.0   2648.50   16150.0  \n",
       "7                  1546.0   3360.75   36769.0  \n",
       "8                  1544.0   3126.00   12541.0  \n",
       "9                  1915.0   3002.50   34979.0  \n",
       "10                 2397.0   4264.75   75017.0  \n",
       "11                 3791.0   8742.50   35433.0  \n",
       "12                 7906.0  14563.00   86661.0  \n",
       "13                16581.0  26302.00  156469.0  \n",
       "14                25446.0  33780.50   88220.0  "
      ]
     },
     "execution_count": 44,
     "metadata": {},
     "output_type": "execute_result"
    }
   ],
   "source": [
    "filtered.groupby('rating_numerator')['favorite_count'].describe()"
   ]
  },
  {
   "cell_type": "markdown",
   "metadata": {},
   "source": [
    "So as we can see from above, the relationship isn't perfectly linear, with some dogs having a higher favorite count despite a lower rating than others (e.g. dogs rated 5 recieve 3617 favorites, versus dogs rated 6 who recieve on average 2471). While some of this is a result of the frequency at which WeRateDogs hands out these ratings, it's still interesting nonetheless. \n",
    "\n",
    "\n",
    "### Insight 2: What are the highest rated dog names on average?\n",
    "There are a ton of dogs in our dataset, but there are several who share the same name. Let's see if we can identify which of these names is rated the highest on average:"
   ]
  },
  {
   "cell_type": "code",
   "execution_count": 68,
   "metadata": {
    "scrolled": true
   },
   "outputs": [
    {
     "data": {
      "text/plain": [
       "name\n",
       "Paisley    13.000000\n",
       "Kevin      13.000000\n",
       "Peaches    13.000000\n",
       "Zeke       12.666667\n",
       "Boomer     12.666667\n",
       "             ...    \n",
       "an          6.833333\n",
       "Crystal     6.500000\n",
       "Bernie      6.500000\n",
       "Hammond     5.500000\n",
       "Patrick     5.000000\n",
       "Name: rating_numerator, Length: 225, dtype: float64"
      ]
     },
     "execution_count": 68,
     "metadata": {},
     "output_type": "execute_result"
    }
   ],
   "source": [
    "# Pare down our dataset to just those dogs with repeated names\n",
    "filtered_names = filtered[filtered.groupby('name').rating_numerator.transform('count') > 1]\n",
    "\n",
    "# Group the dogs by name and calculate an average rating for each name\n",
    "filtered_names.groupby('name')['rating_numerator'].mean().sort_values(ascending=False)"
   ]
  },
  {
   "cell_type": "markdown",
   "metadata": {},
   "source": [
    "Seems like we've got a three way tie at the top, with Paisley, Kevin, and Peaches all in a dead heat at 13. And who can pick a favorite? I can't. They're all good dogs. \n",
    "\n",
    "### Insight 3: What are the most predicted things that are *not dogs*?\n",
    "\n",
    "Frequently, machine learning applications have a tendency to classify particular kinds of dogs incorrectly, like this classic image showing the difficult task at hand, which humans can identify but computers cannot. \n",
    "\n",
    "![Poor pups](imgs/img1.jpeg)\n",
    "\n",
    "But as hilarious as these results can often be, I was curious about what else the prediction algorithm might have to say when it's not properly classifying dogs, and then ponder about the reasons this might be, and if they're as straightforward as our muffin pups above."
   ]
  },
  {
   "cell_type": "code",
   "execution_count": 84,
   "metadata": {},
   "outputs": [
    {
     "data": {
      "text/plain": [
       "seat_belt     16\n",
       "teddy         13\n",
       "doormat       12\n",
       "ice_bear       8\n",
       "dingo          8\n",
       "              ..\n",
       "stone_wall     1\n",
       "jaguar         1\n",
       "hay            1\n",
       "hair_spray     1\n",
       "coffee_mug     1\n",
       "Name: wrong_ids, Length: 264, dtype: int64"
      ]
     },
     "execution_count": 84,
     "metadata": {},
     "output_type": "execute_result"
    }
   ],
   "source": [
    "# Let's take a look at just the prediction data that got it wrong\n",
    "wrong = filtered_names[(filtered_names['is_prediction1_dog']==False)|\n",
    "                       (filtered_names['is_prediction2_dog']==False)|\n",
    "                       (filtered_names['is_prediction3_dog']==False)]\n",
    "\n",
    "# We're going to have to grab the series of unique predictions some other way\n",
    "p1 = filtered_names[filtered_names['is_prediction1_dog']==False]['image_prediction1'].values\n",
    "p2 = filtered_names[filtered_names['is_prediction2_dog']==False]['image_prediction2'].values\n",
    "p3 = filtered_names[filtered_names['is_prediction3_dog']==False]['image_prediction3'].values\n",
    "\n",
    "# Let's... assemble one long list of long predictions as a Dataframe and then run value_counts()\n",
    "wrongs = pd.DataFrame(np.concatenate([p1, p2, p3]), columns=['wrong_ids'])\n",
    "wrongs['wrong_ids'].value_counts()"
   ]
  },
  {
   "cell_type": "markdown",
   "metadata": {},
   "source": [
    "Well. Of all the things I thought I'd see on here, seat belts were not at the top of my list. Let's take a look at two of these and see why seat belt might have been the case:"
   ]
  },
  {
   "cell_type": "code",
   "execution_count": 83,
   "metadata": {},
   "outputs": [
    {
     "data": {
      "text/plain": [
       "269     https://pbs.twimg.com/media/C4BiOXOXAAAf6IS.jpg\n",
       "497     https://pbs.twimg.com/media/Cu0hlfwWYAEdnXO.jpg\n",
       "573     https://pbs.twimg.com/media/Crsgi9dWEAApQd8.jpg\n",
       "624     https://pbs.twimg.com/media/CpcWknPXYAAeLP9.jpg\n",
       "760     https://pbs.twimg.com/media/CllNnkWWMAEDIAR.jpg\n",
       "1790    https://pbs.twimg.com/media/CUr9NjgU8AEpf5w.jpg\n",
       "Name: jpg_url, dtype: object"
      ]
     },
     "execution_count": 83,
     "metadata": {},
     "output_type": "execute_result"
    }
   ],
   "source": [
    "filtered_names[filtered_names['image_prediction1']=='seat_belt']['jpg_url']"
   ]
  },
  {
   "cell_type": "markdown",
   "metadata": {},
   "source": [
    "![pupperoni](imgs/img2.jpg)\n",
    "![pupperuski](imgs/img3.jpg)\n",
    "\n",
    "Sure enough, dogs in cars. That makes sense. The algorithm sees a car, it's not sure what it's predicting in the first place, so, sure, seatbelt might be a reasonable assumption. Same goes for teddy bears. I know pups are definitely as cuddly as teddy bears, that's for sure. Let's just check up on those doormats, just out of sheer curiosity."
   ]
  },
  {
   "cell_type": "code",
   "execution_count": 85,
   "metadata": {},
   "outputs": [
    {
     "data": {
      "text/plain": [
       "848     https://pbs.twimg.com/media/CiD3AfkXEAA3S_r.jpg\n",
       "1821    https://pbs.twimg.com/media/CUi3PIrWoAAPvPT.jpg\n",
       "Name: jpg_url, dtype: object"
      ]
     },
     "execution_count": 85,
     "metadata": {},
     "output_type": "execute_result"
    }
   ],
   "source": [
    "filtered_names[filtered_names['image_prediction1']=='doormat']['jpg_url']"
   ]
  },
  {
   "cell_type": "markdown",
   "metadata": {},
   "source": [
    "![doorpup](imgs/img4.jpg)\n",
    "\n",
    "And indeed, where there is small pup, and a lot of floor, our algorithm might not know exactly where to focus, and as such, returns a sad prediction of doormat. Well, in my world, no pup is a doormat. They are all special indeed. \n",
    "\n",
    "# Conclusion\n",
    "While there's still a lot more that can be parsed from this dataset, hopefully this goes to show that with a few quick commands, all data has a story to tell, some more cute and entertaining than others!"
   ]
  },
  {
   "cell_type": "code",
   "execution_count": null,
   "metadata": {},
   "outputs": [],
   "source": []
  }
 ],
 "metadata": {
  "kernelspec": {
   "display_name": "Python 3",
   "language": "python",
   "name": "python3"
  },
  "language_info": {
   "codemirror_mode": {
    "name": "ipython",
    "version": 3
   },
   "file_extension": ".py",
   "mimetype": "text/x-python",
   "name": "python",
   "nbconvert_exporter": "python",
   "pygments_lexer": "ipython3",
   "version": "3.7.6"
  }
 },
 "nbformat": 4,
 "nbformat_minor": 4
}
